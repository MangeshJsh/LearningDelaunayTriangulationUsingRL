{
 "cells": [
  {
   "cell_type": "code",
   "execution_count": null,
   "metadata": {
    "executionInfo": {
     "elapsed": 398,
     "status": "ok",
     "timestamp": 1653644202515,
     "user": {
      "displayName": "Mangesh Joshi",
      "userId": "13098781678719992811"
     },
     "user_tz": -330
    },
    "id": "EvX06uFQ2Vqe"
   },
   "outputs": [],
   "source": [
    "import pandas as pd\n",
    "import scipy\n",
    "import scipy.spatial\n",
    "import networkx as nx\n",
    "import numpy as np\n",
    "from collections import deque\n",
    "import collections\n",
    "import pickle\n",
    "\n",
    "# for plotting graphs\n",
    "import matplotlib.pyplot as plt\n",
    "\n",
    "from CommonDefs import Point, Edge \n",
    "from TwoDimConvexHull import TwoDimConvexHull, PrintTwoDimConvexHull\n",
    "from Utils import nearestKNeighboursOfEdgeMidPt, checkTriangleForDelaunayCriteria\n",
    "from Graph import Graph\n",
    "from DTEnv import DTEnv\n",
    "from DTDoubleDQNAgent import DTDoubleDQNAgent"
   ]
  },
  {
   "cell_type": "code",
   "execution_count": null,
   "metadata": {
    "id": "wWXuzONy2kDU"
   },
   "outputs": [],
   "source": []
  },
  {
   "cell_type": "code",
   "execution_count": null,
   "metadata": {
    "executionInfo": {
     "elapsed": 2,
     "status": "ok",
     "timestamp": 1653644204003,
     "user": {
      "displayName": "Mangesh Joshi",
      "userId": "13098781678719992811"
     },
     "user_tz": -330
    },
    "id": "xm2IvANz2Vqj"
   },
   "outputs": [],
   "source": [
    "pd.options.display.max_columns = None"
   ]
  },
  {
   "cell_type": "code",
   "execution_count": null,
   "metadata": {
    "executionInfo": {
     "elapsed": 4,
     "status": "ok",
     "timestamp": 1653644205220,
     "user": {
      "displayName": "Mangesh Joshi",
      "userId": "13098781678719992811"
     },
     "user_tz": -330
    },
    "id": "flbUCVgY2Vqk"
   },
   "outputs": [],
   "source": [
    "import warnings\n",
    "warnings.filterwarnings(\"ignore\")"
   ]
  },
  {
   "cell_type": "code",
   "execution_count": null,
   "metadata": {},
   "outputs": [],
   "source": []
  },
  {
   "cell_type": "code",
   "execution_count": null,
   "metadata": {
    "colab": {
     "base_uri": "https://localhost:8080/",
     "height": 270
    },
    "executionInfo": {
     "elapsed": 10,
     "status": "ok",
     "timestamp": 1653644206444,
     "user": {
      "displayName": "Mangesh Joshi",
      "userId": "13098781678719992811"
     },
     "user_tz": -330
    },
    "id": "gNolc3gQ2Vql",
    "outputId": "2fb79e20-5ea6-44bc-b68c-93f3c8722c54"
   },
   "outputs": [],
   "source": [
    "df = pd.read_csv(\"D:\\Thesis_Experiments\\Data\\DT_5_sorted.txt\", sep=\" \", header=None)\n",
    "df.head()\n"
   ]
  },
  {
   "cell_type": "code",
   "execution_count": null,
   "metadata": {
    "colab": {
     "base_uri": "https://localhost:8080/"
    },
    "executionInfo": {
     "elapsed": 398,
     "status": "ok",
     "timestamp": 1653644210023,
     "user": {
      "displayName": "Mangesh Joshi",
      "userId": "13098781678719992811"
     },
     "user_tz": -330
    },
    "id": "xKHjxUYx2Vqn",
    "outputId": "a27c0d51-5b29-4505-a0fd-6eec4e6ea982"
   },
   "outputs": [],
   "source": [
    "df.shape"
   ]
  },
  {
   "cell_type": "code",
   "execution_count": null,
   "metadata": {
    "executionInfo": {
     "elapsed": 1389,
     "status": "ok",
     "timestamp": 1653644212003,
     "user": {
      "displayName": "Mangesh Joshi",
      "userId": "13098781678719992811"
     },
     "user_tz": -330
    },
    "id": "7r9o2gjW2Vqo"
   },
   "outputs": [],
   "source": [
    "pointData = {}\n",
    "optimalDT = {}\n",
    "for i in range(len(df)):\n",
    "    pointId = 1\n",
    "    points = []\n",
    "    for j in range(0 , len(df.columns), 2):\n",
    "        if df.loc[i, j] == \"output\":\n",
    "            triList = []\n",
    "            for k in range(j+1, len(df.columns), 3):\n",
    "                tri=[df.loc[i, k], df.loc[i, k+1], df.loc[i, k+2]]\n",
    "                tri = sorted(tri)\n",
    "                triList.append(tri)\n",
    "            optimalDT[i] = triList\n",
    "            break\n",
    "        else:\n",
    "            points.append(Point(pointId, df.loc[i, j], df.loc[i, j + 1]))\n",
    "            pointId = pointId + 1\n",
    "    pointData[i] = points"
   ]
  },
  {
   "cell_type": "code",
   "execution_count": null,
   "metadata": {
    "executionInfo": {
     "elapsed": 4,
     "status": "ok",
     "timestamp": 1653644212813,
     "user": {
      "displayName": "Mangesh Joshi",
      "userId": "13098781678719992811"
     },
     "user_tz": -330
    },
    "id": "ichfEsfX2Vqp"
   },
   "outputs": [],
   "source": [
    "# Initialising the environment\n",
    "env = DTEnv(2)\n",
    "agent = DTDoubleDQNAgent(env)"
   ]
  },
  {
   "cell_type": "code",
   "execution_count": null,
   "metadata": {
    "colab": {
     "base_uri": "https://localhost:8080/"
    },
    "executionInfo": {
     "elapsed": 13520,
     "status": "ok",
     "timestamp": 1653644314038,
     "user": {
      "displayName": "Mangesh Joshi",
      "userId": "13098781678719992811"
     },
     "user_tz": -330
    },
    "id": "ayNOQQU62Vqq",
    "outputId": "eb13717b-a28d-438c-cc87-5316b6df8194"
   },
   "outputs": [],
   "source": [
    "initializeModel = True\n",
    "\n",
    "totalPredictedTriangles = 0\n",
    "totalNumTrisInGroundTruth = 0\n",
    "trianglesCorrectlyPredicted = 0\n",
    "validDelaunayTriangles = 0\n",
    "ti = 0\n",
    "\n",
    "for i in range(len(df)):     \n",
    "\n",
    "    score = 0\n",
    "    env.reset()\n",
    "    env.initialize(pointData[i])  \n",
    "\n",
    "    if initializeModel:\n",
    "        agent.initializeModelForValidation(env, 'DDQN_Delaunay.h5')\n",
    "        initializeModel = False\n",
    "\n",
    "    _, state = env.getStartState()\n",
    "    terminal_state = False\n",
    "\n",
    "    while not terminal_state:\n",
    "\n",
    "        #Get the free edge from the list\n",
    "        edgeToProcess = env.getEdgesToProcess()[0]\n",
    "\n",
    "        action = agent.get_action_for_validation(state, edgeToProcess)            \n",
    "\n",
    "        '''if not action:\n",
    "            break'''\n",
    "\n",
    "        #print('edgeToProcess: {}-{}'.format(edgeToProcess[0], edgeToProcess[1]))\n",
    "        #print('action chosen: {}'.format(env.getNodeIdFromPosAttr( action[4], action[5])))\n",
    "\n",
    "        reward = env.getReward(edgeToProcess, action)        \n",
    "        next_state = env.getNextState(edgeToProcess, action)\n",
    "        env.removeProcessedEdge(edgeToProcess)\n",
    "        terminal_state = env.isTerminalState()\n",
    "\n",
    "        score += reward\n",
    "        state = next_state\n",
    "\n",
    "    if terminal_state:\n",
    "        print('generated triangles: {}'.format(env.getGeneratedTriangles()))\n",
    "        \n",
    "        trianglesPredicted = env.getGeneratedTriangles()\n",
    "        trianglesGroundTruth = optimalDT[i]\n",
    "        \n",
    "        totalPredictedTriangles += len(trianglesPredicted)\n",
    "        totalNumTrisInGroundTruth += len(trianglesGroundTruth)\n",
    "        \n",
    "        if len(trianglesGroundTruth) == len(trianglesPredicted):\n",
    "            ti += 1\n",
    "        \n",
    "        for tri in trianglesPredicted:\n",
    "            if tri in trianglesGroundTruth:\n",
    "                trianglesCorrectlyPredicted += 1\n",
    "            pt1 = env.getPointFromId(tri[0])\n",
    "            pt2 = env.getPointFromId(tri[1])\n",
    "            pt3 = env.getPointFromId(tri[2])\n",
    "            if (checkTriangleForDelaunayCriteria(pt1, pt2, pt3, pointData[i]) == True):\n",
    "                validDelaunayTriangles += 1\n",
    "\n",
    "print('TCA: {}'.format((ti/len(df)) * 100))\n",
    "print('Total Number of ground truth triangles: {}'.format(totalNumTrisInGroundTruth))\n",
    "print('Total Number of triangles predicted: {}'.format(totalPredictedTriangles))\n",
    "print('Number of triangles correctly predicted: {}'.format(trianglesCorrectlyPredicted))\n",
    "print('Number of valid delaunay triangles: {}'.format(validDelaunayTriangles))\n",
    "\n",
    "print('Triangle Coverage: {}'.format( (trianglesCorrectlyPredicted/totalPredictedTriangles) * 100))\n",
    "print('DT Rate: {}'.format( (validDelaunayTriangles/totalPredictedTriangles) * 100))\n",
    "      \n",
    "\n",
    "\n",
    "      \n",
    "\n",
    "    \n",
    "    "
   ]
  },
  {
   "cell_type": "code",
   "execution_count": null,
   "metadata": {
    "id": "liJWqgJG2Vqs"
   },
   "outputs": [],
   "source": []
  }
 ],
 "metadata": {
  "colab": {
   "name": "DQNModelValidation.ipynb",
   "provenance": []
  },
  "kernelspec": {
   "display_name": "Python 3 (ipykernel)",
   "language": "python",
   "name": "python3"
  },
  "language_info": {
   "codemirror_mode": {
    "name": "ipython",
    "version": 3
   },
   "file_extension": ".py",
   "mimetype": "text/x-python",
   "name": "python",
   "nbconvert_exporter": "python",
   "pygments_lexer": "ipython3",
   "version": "3.9.12"
  }
 },
 "nbformat": 4,
 "nbformat_minor": 1
}
